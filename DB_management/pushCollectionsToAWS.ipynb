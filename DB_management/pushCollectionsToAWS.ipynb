{
 "cells": [
  {
   "cell_type": "code",
   "execution_count": 9,
   "metadata": {},
   "outputs": [
    {
     "data": {
      "text/plain": [
       "['admin', 'cw', 'data_diggers', 'enron', 'local', 'test']"
      ]
     },
     "execution_count": 9,
     "metadata": {},
     "output_type": "execute_result"
    }
   ],
   "source": [
    "from pymongo import MongoClient\n",
    "client = MongoClient('mongodb://localhost:27017')\n",
    "client.database_names()\n"
   ]
  },
  {
   "cell_type": "markdown",
   "metadata": {},
   "source": [
    "Load Reference collection"
   ]
  },
  {
   "cell_type": "code",
   "execution_count": 10,
   "metadata": {},
   "outputs": [
    {
     "name": "stderr",
     "output_type": "stream",
     "text": [
      "2018-01-06T14:05:45.423+0000\tconnected to: localhost\n",
      "2018-01-06T14:05:45.456+0000\texported 1742 records\n"
     ]
    }
   ],
   "source": [
    "%%bash\n",
    "mongoexport --db data_diggers --collection reference --out reference.json"
   ]
  },
  {
   "cell_type": "code",
   "execution_count": 11,
   "metadata": {},
   "outputs": [
    {
     "name": "stderr",
     "output_type": "stream",
     "text": [
      "2018-01-06T14:05:47.057+0000\tconnected to: Cluster0-shard-0/cluster0-shard-00-00-07rsk.mongodb.net:27017,cluster0-shard-00-01-07rsk.mongodb.net:27017,cluster0-shard-00-02-07rsk.mongodb.net:27017\n",
      "2018-01-06T14:05:47.678+0000\timported 1742 documents\n"
     ]
    }
   ],
   "source": [
    "%%bash\n",
    "mongoimport --host Cluster0-shard-0/cluster0-shard-00-00-07rsk.mongodb.net:27017,cluster0-shard-00-01-07rsk.mongodb.net:27017,cluster0-shard-00-02-07rsk.mongodb.net:27017 --ssl --username data_diggers --password data_diggers --authenticationDatabase admin --db data_diggers --collection reference --type json --file reference.json"
   ]
  },
  {
   "cell_type": "markdown",
   "metadata": {},
   "source": [
    "Load collection with Random Forest results"
   ]
  },
  {
   "cell_type": "code",
   "execution_count": 12,
   "metadata": {},
   "outputs": [
    {
     "name": "stderr",
     "output_type": "stream",
     "text": [
      "2018-01-06T14:05:49.130+0000\tconnected to: localhost\n",
      "2018-01-06T14:05:49.131+0000\texported 1 record\n"
     ]
    }
   ],
   "source": [
    "%%bash\n",
    "mongoexport --db data_diggers --collection factorsRank --out factorsRank.json"
   ]
  },
  {
   "cell_type": "code",
   "execution_count": 13,
   "metadata": {},
   "outputs": [
    {
     "name": "stderr",
     "output_type": "stream",
     "text": [
      "2018-01-06T14:05:50.098+0000\tconnected to: Cluster0-shard-0/cluster0-shard-00-00-07rsk.mongodb.net:27017,cluster0-shard-00-01-07rsk.mongodb.net:27017,cluster0-shard-00-02-07rsk.mongodb.net:27017\n",
      "2018-01-06T14:05:50.289+0000\timported 1 document\n"
     ]
    }
   ],
   "source": [
    "%%bash\n",
    "mongoimport --host Cluster0-shard-0/cluster0-shard-00-00-07rsk.mongodb.net:27017,cluster0-shard-00-01-07rsk.mongodb.net:27017,cluster0-shard-00-02-07rsk.mongodb.net:27017 --ssl --username data_diggers --password data_diggers --authenticationDatabase admin --db data_diggers --collection factorsRank --type json --file factorsRank.json"
   ]
  },
  {
   "cell_type": "markdown",
   "metadata": {},
   "source": [
    "Load collection with Pearson's method results"
   ]
  },
  {
   "cell_type": "code",
   "execution_count": 14,
   "metadata": {},
   "outputs": [
    {
     "name": "stderr",
     "output_type": "stream",
     "text": [
      "2018-01-06T14:05:51.592+0000\tconnected to: localhost\n",
      "2018-01-06T14:05:51.593+0000\texported 1 record\n"
     ]
    }
   ],
   "source": [
    "%%bash\n",
    "mongoexport --db data_diggers --collection pearsonr_correlation_coefficient --out pearsonCor.json"
   ]
  },
  {
   "cell_type": "code",
   "execution_count": 15,
   "metadata": {},
   "outputs": [
    {
     "name": "stderr",
     "output_type": "stream",
     "text": [
      "2018-01-06T14:05:52.466+0000\tconnected to: Cluster0-shard-0/cluster0-shard-00-00-07rsk.mongodb.net:27017,cluster0-shard-00-01-07rsk.mongodb.net:27017,cluster0-shard-00-02-07rsk.mongodb.net:27017\n",
      "2018-01-06T14:05:52.651+0000\timported 1 document\n"
     ]
    }
   ],
   "source": [
    "%%bash\n",
    "mongoimport --host Cluster0-shard-0/cluster0-shard-00-00-07rsk.mongodb.net:27017,cluster0-shard-00-01-07rsk.mongodb.net:27017,cluster0-shard-00-02-07rsk.mongodb.net:27017 --ssl --username data_diggers --password data_diggers --authenticationDatabase admin --db data_diggers --collection pearsonr_correlation_coefficient --type json --file pearsonCor.json"
   ]
  },
  {
   "cell_type": "code",
   "execution_count": null,
   "metadata": {
    "collapsed": true
   },
   "outputs": [],
   "source": []
  }
 ],
 "metadata": {
  "kernelspec": {
   "display_name": "Python [conda root]",
   "language": "python",
   "name": "conda-root-py"
  },
  "language_info": {
   "codemirror_mode": {
    "name": "ipython",
    "version": 3
   },
   "file_extension": ".py",
   "mimetype": "text/x-python",
   "name": "python",
   "nbconvert_exporter": "python",
   "pygments_lexer": "ipython3",
   "version": "3.6.1"
  }
 },
 "nbformat": 4,
 "nbformat_minor": 2
}
