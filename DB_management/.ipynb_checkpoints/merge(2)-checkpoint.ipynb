{
 "cells": [
  {
   "cell_type": "code",
   "execution_count": 1,
   "metadata": {},
   "outputs": [
    {
     "data": {
      "text/plain": [
       "['admin', 'data_diggers', 'enron', 'local']"
      ]
     },
     "execution_count": 1,
     "metadata": {},
     "output_type": "execute_result"
    }
   ],
   "source": [
    "from pymongo import MongoClient\n",
    "client = MongoClient('mongodb://localhost:27017')\n",
    "client.database_names()"
   ]
  },
  {
   "cell_type": "markdown",
   "metadata": {},
   "source": [
    "# merge all of the dataset to one"
   ]
  },
  {
   "cell_type": "code",
   "execution_count": 3,
   "metadata": {},
   "outputs": [
    {
     "data": {
      "text/plain": [
       "1742"
      ]
     },
     "execution_count": 3,
     "metadata": {},
     "output_type": "execute_result"
    }
   ],
   "source": [
    "import json\n",
    "with open('../cities.json', 'r') as f:\n",
    "    cities = json.load(f)\n",
    "db = client.data_diggers\n",
    "collection = db.training_data\n",
    "collection.drop()\n",
    "collection.insert_many(cities)\n",
    "collection.count()"
   ]
  },
  {
   "cell_type": "code",
   "execution_count": 4,
   "metadata": {
    "collapsed": true
   },
   "outputs": [],
   "source": [
    "# house_price\n",
    "new_collection = db.houseprice_collection\n",
    "# print(new_collection.find_one())\n",
    "collects = new_collection.find()\n",
    "for collect in collects:\n",
    "    result = collection.update_many({'region': collect['city_name']},{'$inc': {'house_price': collect['Normalization']}})\n",
    "    if result.matched_count == 0:\n",
    "        result1 = collection.update_one({'city_name': collect['city_name']},{'$inc': {'house_price': collect['Normalization']}})\n",
    "#         print(result1.matched_count)"
   ]
  },
  {
   "cell_type": "code",
   "execution_count": 5,
   "metadata": {
    "collapsed": true
   },
   "outputs": [],
   "source": [
    "# school_number\n",
    "new_collection = db.education\n",
    "# print(new_collection.find_one())\n",
    "collects = new_collection.find()\n",
    "for collect in collects:\n",
    "    result = collection.update_many({'region': collect['city_name']},{'$inc': {'school_number': collect['school_number_normalize_maxmin']}})\n",
    "    if result.matched_count == 0:\n",
    "        result1 = collection.update_one({'city_name': collect['city_name']},{'$inc': {'school_number': collect['school_number_normalize_maxmin']}})\n",
    "#         print(result1.matched_count)"
   ]
  },
  {
   "cell_type": "code",
   "execution_count": 6,
   "metadata": {
    "collapsed": true
   },
   "outputs": [],
   "source": [
    "# unemployment\n",
    "new_collection = db.unemployment\n",
    "# print(new_collection.find_one())\n",
    "collects = new_collection.find()\n",
    "for collect in collects:\n",
    "    result = collection.update_many({'region': collect['city_name']},{'$inc': {'unemployment': float(collect['Unemployment_norm'])}})\n",
    "    if result.matched_count == 0:\n",
    "        result1 = collection.update_one({'city_name': collect['city_name']},{'$inc': {'unemployment': float(collect['Unemployment_norm'])}})\n",
    "#         print(result1.matched_count)"
   ]
  },
  {
   "cell_type": "code",
   "execution_count": 7,
   "metadata": {},
   "outputs": [
    {
     "name": "stdout",
     "output_type": "stream",
     "text": [
      "{'_id': ObjectId('5a3917147c4c7b7dad0d8e82'), 'city_name': 'Stockton-on-Tees', 'Number of people exposed to traffic noise': 9100.0, 'Normalized value of Number of people exposed to traffic noise': -0.26221699976832685}\n"
     ]
    }
   ],
   "source": [
    "# trafficNoise\n",
    "new_collection = db.trafficNoise\n",
    "print(new_collection.find_one())\n",
    "collects = new_collection.find()\n",
    "for collect in collects:\n",
    "    result = collection.update_many({'region': collect['city_name']},{'$inc': {'traffic_noise': collect['Normalized value of Number of people exposed to traffic noise']}})\n",
    "    if result.matched_count == 0:\n",
    "        result1 = collection.update_one({'city_name': collect['city_name']},{'$inc': {'traffic_noise': collect['Normalized value of Number of people exposed to traffic noise']}})\n",
    "#         print(result1.matched_count)"
   ]
  },
  {
   "cell_type": "code",
   "execution_count": 8,
   "metadata": {},
   "outputs": [
    {
     "name": "stdout",
     "output_type": "stream",
     "text": [
      "{'_id': ObjectId('5a3919f97c4c7b7dad0d9f57'), 'city_name': 'Barnstaple', 'hospitals_number_normalize_maxmin': 0.0}\n"
     ]
    }
   ],
   "source": [
    "# hospitals\n",
    "new_collection = db.hospitals\n",
    "print(new_collection.find_one())\n",
    "collects = new_collection.find()\n",
    "for collect in collects:\n",
    "    result = collection.update_many({'region': collect['city_name']},{'$inc': {'hospitals_number': collect['hospitals_number_normalize_maxmin']}})\n",
    "    if result.matched_count == 0:\n",
    "        result1 = collection.update_one({'city_name': collect['city_name']},{'$inc': {'hospitals_number': collect['hospitals_number_normalize_maxmin']}})\n",
    "#         print(result1.matched_count)"
   ]
  },
  {
   "cell_type": "code",
   "execution_count": 9,
   "metadata": {},
   "outputs": [
    {
     "name": "stdout",
     "output_type": "stream",
     "text": [
      "{'_id': ObjectId('5a3917c47c4c7b7dad0d90ea'), 'city_name': 'Aberdeen', 'countries': 'United Kingdom', 'population': '222793', 'N_population': '-0.260979594'}\n"
     ]
    }
   ],
   "source": [
    "# population_collection\n",
    "new_collection = db.population_collection\n",
    "print(new_collection.find_one())\n",
    "collects = new_collection.find()\n",
    "for collect in collects:\n",
    "    result = collection.update_many({'region': collect['city_name']},{'$inc': {'population': float(collect['N_population'])}})\n",
    "    if result.matched_count == 0:\n",
    "        result1 = collection.update_one({'city_name': collect['city_name']},{'$inc': {'population': float(collect['N_population'])}})"
   ]
  },
  {
   "cell_type": "code",
   "execution_count": 10,
   "metadata": {},
   "outputs": [
    {
     "name": "stdout",
     "output_type": "stream",
     "text": [
      "{'_id': ObjectId('5a3918827c4c7b7dad0d92e2'), 'city_name': 'Aberdeen', 'GVA_per_worker_per_month': '56800', 'GVA_norm': '1.6172106581', 'GVA_max_min_norm': '0.6071428571'}\n"
     ]
    }
   ],
   "source": [
    "# gva_collection\n",
    "new_collection = db.gva_collection\n",
    "print(new_collection.find_one())\n",
    "collects = new_collection.find()\n",
    "for collect in collects:\n",
    "    result = collection.update_many({'region': collect['city_name']},{'$inc': {'GVA': float(collect['GVA_max_min_norm'])}})\n",
    "    if result.matched_count == 0:\n",
    "        result1 = collection.update_one({'city_name': collect['city_name']},{'$inc': {'GVA': float(collect['GVA_max_min_norm'])}})\n",
    "#         print(result1.matched_count)"
   ]
  },
  {
   "cell_type": "code",
   "execution_count": 11,
   "metadata": {},
   "outputs": [
    {
     "name": "stdout",
     "output_type": "stream",
     "text": [
      "56\n"
     ]
    }
   ],
   "source": [
    "#UniRank\n",
    "new_collection = db.UniRank\n",
    "# for i in new_collection.find():\n",
    "#     print(i)\n",
    "print(new_collection.count())\n",
    "collects = new_collection.find()\n",
    "for collect in collects:\n",
    "    result = collection.update_many({'region': collect['city_name']},{'$inc': {'best_Uni_ranking': collect['total_jobs_normalized_value']}})\n",
    "    if result.matched_count == 0:\n",
    "        result1 = collection.update_one({'city_name': collect['city_name']},{'$inc': {'best_Uni_ranking':collect['total_jobs_normalized_value']}})\n",
    "#         print(result1.matched_count)"
   ]
  },
  {
   "cell_type": "code",
   "execution_count": 12,
   "metadata": {},
   "outputs": [
    {
     "name": "stdout",
     "output_type": "stream",
     "text": [
      "{'_id': ObjectId('5a39173c7c4c7b7dad0d8ebe'), 'city_name': 'United Kingdom', 'Average happiness rating': 7.38, 'Sample size': 304740.0, 'Normalized value of happiness ranking': 0.38}\n"
     ]
    }
   ],
   "source": [
    "#happinessRank\n",
    "new_collection = db.happinessRank\n",
    "print(new_collection.find_one())\n",
    "collects = new_collection.find()\n",
    "for collect in collects:\n",
    "    result = collection.update_many({'region': collect['city_name']},{'$inc': {'happiness': float(collect['Normalized value of happiness ranking'])}})\n",
    "    result = collection.update_many({'region': collect['city_name']},{'$inc': {'sample':int(collect['Sample size'])}})\n",
    "    if result.matched_count == 0:\n",
    "        result1 = collection.update_one({'city_name': collect['city_name']},{'$inc': {'happiness':float(collect['Normalized value of happiness ranking'])}})\n",
    "        result1 = collection.update_one({'city_name': collect['city_name']},{'$inc': {'sample':int(collect['Sample size'])}})\n",
    "#         print(result1.matched_count)"
   ]
  },
  {
   "cell_type": "code",
   "execution_count": 13,
   "metadata": {},
   "outputs": [
    {
     "name": "stdout",
     "output_type": "stream",
     "text": [
      "{'_id': ObjectId('5a391a1d7c4c7b7dad0da2d7'), 'city_name': 'Mendip', 'stations_number_normalize_maxmin': 0.0}\n"
     ]
    }
   ],
   "source": [
    "# railway_station\n",
    "new_collection = db.railway_station\n",
    "print(new_collection.find_one())\n",
    "collects = new_collection.find()\n",
    "for collect in collects:\n",
    "    result = collection.update_many({'region': collect['city_name']},{'$inc': {'stations_number': collect['stations_number_normalize_maxmin']}})\n",
    "    if result.matched_count == 0:\n",
    "        result1 = collection.update_one({'city_name': collect['city_name']},{'$inc': {'stations_number':collect['stations_number_normalize_maxmin']}})\n",
    "#         print(result1.matched_count)"
   ]
  },
  {
   "cell_type": "code",
   "execution_count": 14,
   "metadata": {},
   "outputs": [
    {
     "name": "stdout",
     "output_type": "stream",
     "text": [
      "{'_id': ObjectId('5a391a0c7c4c7b7dad0da15f'), 'city_name': 'Mendip', 'pubs_number_normalize_maxmin': 0.25073746312684364}\n"
     ]
    }
   ],
   "source": [
    "# pubs\n",
    "new_collection = db.pubs\n",
    "print(new_collection.find_one())\n",
    "collects = new_collection.find()\n",
    "for collect in collects:\n",
    "    result = collection.update_many({'region': collect['city_name']},{'$inc': {'pubs_number': collect['pubs_number_normalize_maxmin']}})\n",
    "    if result.matched_count == 0:\n",
    "        result1 = collection.update_one({'city_name': collect['city_name']},{'$inc': {'pubs_number':collect['pubs_number_normalize_maxmin']}})\n",
    "#         print(result1.matched_count)"
   ]
  },
  {
   "cell_type": "code",
   "execution_count": 15,
   "metadata": {},
   "outputs": [
    {
     "name": "stdout",
     "output_type": "stream",
     "text": [
      "{'_id': ObjectId('5a3916d27c4c7b7dad0d8de3'), 'city_name': 'County Durham', 'Delay 2015': 21.2, 'Delay 2016': 22.4, 'Delay_2015_normalized_value': -0.8983897493709471, 'Delay_2016_normalized_value': -0.8705272692129561}\n"
     ]
    }
   ],
   "source": [
    "#roadTraffic\n",
    "new_collection = db.roadTraffic\n",
    "print(new_collection.find_one())\n",
    "collects = new_collection.find()\n",
    "for collect in collects:\n",
    "    result = collection.update_many({'region': collect['city_name']},{'$inc': {'road_traffic_2015': collect['Delay_2015_normalized_value']}})\n",
    "    result = collection.update_many({'region': collect['city_name']},{'$inc': {'road_traffic_2016': collect['Delay_2016_normalized_value']}})\n",
    "    if result.matched_count == 0:\n",
    "        result1 = collection.update_one({'city_name': collect['city_name']},{'$inc': {'road_traffic_2015':collect['Delay_2015_normalized_value']}})\n",
    "        result1 = collection.update_one({'city_name': collect['city_name']},{'$inc': {'road_traffic_2016':collect['Delay_2016_normalized_value']}})\n",
    "#         print(result1.matched_count)"
   ]
  },
  {
   "cell_type": "code",
   "execution_count": 16,
   "metadata": {},
   "outputs": [
    {
     "name": "stdout",
     "output_type": "stream",
     "text": [
      "{'_id': ObjectId('5a3916667c4c7b7dad0d8da5'), 'city_name': 'Aberdeen', 'total_jobs': 176400.0, 'total_jobs_normalized_value': -0.13139689528109025}\n"
     ]
    }
   ],
   "source": [
    "#TotalJobs\n",
    "new_collection = db.TotalJobs\n",
    "print(new_collection.find_one())\n",
    "collects = new_collection.find()\n",
    "for collect in collects:\n",
    "    result = collection.update_many({'region': collect['city_name']},{'$inc': {'total_jobs': collect['total_jobs_normalized_value']}})\n",
    "    if result.matched_count == 0:\n",
    "        result1 = collection.update_one({'city_name': collect['city_name']},{'$inc': {'total_jobs':collect['total_jobs_normalized_value']}})\n",
    "#         print(result1.matched_count)"
   ]
  },
  {
   "cell_type": "code",
   "execution_count": null,
   "metadata": {
    "collapsed": true
   },
   "outputs": [],
   "source": [
    "# weather"
   ]
  },
  {
   "cell_type": "code",
   "execution_count": 19,
   "metadata": {},
   "outputs": [
    {
     "name": "stdout",
     "output_type": "stream",
     "text": [
      "82\n"
     ]
    }
   ],
   "source": [
    "all_found =  collection.find({\n",
    "                            'house_price':{'$exists':'true'},\n",
    "                              'total_jobs':{'$exists':'true'},\n",
    "                              'school_number':{'$exists':'true'},\n",
    "                              'unemployment':{'$exists':'true'},\n",
    "                              'traffic_noise':{'$exists':'true'},\n",
    "                              'hospitals_number':{'$exists':'true'},\n",
    "                              'population':{'$exists':'true'},\n",
    "                              'GVA':{'$exists':'true'},\n",
    "                              'stations_number':{'$exists':'true'},\n",
    "                              'happiness':{'$exists':'true'},\n",
    "                              'pubs_number':{'$exists':'true'},\n",
    "                              'road_traffic_2016':{'$exists':'true'},\n",
    "#                               'best_Uni_ranking':{'$exists':'true'}\n",
    "                             })\n",
    "\n",
    "print(all_found.count())"
   ]
  }
 ],
 "metadata": {
  "kernelspec": {
   "display_name": "Python [conda root]",
   "language": "python",
   "name": "conda-root-py"
  },
  "language_info": {
   "codemirror_mode": {
    "name": "ipython",
    "version": 3
   },
   "file_extension": ".py",
   "mimetype": "text/x-python",
   "name": "python",
   "nbconvert_exporter": "python",
   "pygments_lexer": "ipython3",
   "version": "3.6.1"
  }
 },
 "nbformat": 4,
 "nbformat_minor": 2
}
