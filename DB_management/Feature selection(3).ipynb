{
 "cells": [
  {
   "cell_type": "code",
   "execution_count": 1,
   "metadata": {
    "collapsed": true
   },
   "outputs": [],
   "source": [
    "from pymongo import MongoClient\n",
    "client = MongoClient('mongodb://localhost:27017')\n",
    "client.database_names()\n",
    "db = client.data_diggers\n",
    "collection = db.training_data\n"
   ]
  },
  {
   "cell_type": "markdown",
   "metadata": {},
   "source": [
    "## import the package and data"
   ]
  },
  {
   "cell_type": "code",
   "execution_count": 11,
   "metadata": {},
   "outputs": [
    {
     "name": "stdout",
     "output_type": "stream",
     "text": [
      "        GVA  best_Uni_ranking  hospitals_number  house_price  population  \\\n",
      "0  0.168831          0.797753          0.177215    -0.570112    1.567995   \n",
      "1  0.168831          0.797753          0.177215    -0.570112    1.567995   \n",
      "2  0.201299          0.000000          0.000000    -1.978730   -0.299514   \n",
      "3  0.139610          0.258427          0.088608    -0.807119   -0.011484   \n",
      "4  0.139610          0.258427          0.088608    -0.807119   -0.011484   \n",
      "\n",
      "   pubs_number  road_traffic_2015  road_traffic_2016  school_number  \\\n",
      "0     0.644543           0.429722           0.441331       0.266980   \n",
      "1     0.644543           0.429722           0.441331       0.266980   \n",
      "2     0.151917          -0.499028          -0.485096       0.030303   \n",
      "3     0.699115           0.032681           0.095372       0.086207   \n",
      "4     0.699115           0.032681           0.095372       0.092476   \n",
      "\n",
      "   stations_number  total_jobs  traffic_noise  unemployment  \n",
      "0         0.578947    1.188895       1.084697      1.369535  \n",
      "1         0.578947    1.188895       1.084697      1.369535  \n",
      "2         0.070175   -0.304352      -0.242519     -0.711066  \n",
      "3         0.228070   -0.097214       0.527049      1.617838  \n",
      "4         0.228070   -0.097214       0.527049      1.617838  \n"
     ]
    }
   ],
   "source": [
    "from pprint import pprint\n",
    "import numpy\n",
    "import pymongo\n",
    "import pandas as pd\n",
    "from sklearn import linear_model\n",
    "import sklearn\n",
    "\n",
    "filter_ = {\n",
    "                            'house_price':{'$exists':'true'},\n",
    "                              'total_jobs':{'$exists':'true'},\n",
    "                              'school_number':{'$exists':'true'},\n",
    "                              'unemployment':{'$exists':'true'},\n",
    "                              'traffic_noise':{'$exists':'true'},\n",
    "                              'hospitals_number':{'$exists':'true'},\n",
    "                              'population':{'$exists':'true'},\n",
    "                              'GVA':{'$exists':'true'},\n",
    "                              'stations_number':{'$exists':'true'},\n",
    "                              'happiness':{'$exists':'true'},\n",
    "                              'pubs_number':{'$exists':'true'},\n",
    "                              'road_traffic_2016':{'$exists':'true'},\n",
    "#                               'best_Uni_ranking':{'$exists':'true'}\n",
    "                             }\n",
    "\n",
    "all_found = collection.find(filter_)\n",
    "\n",
    "\n",
    "# read data to pandas\n",
    "data = pd.DataFrame(list(all_found))\n",
    "# print(data[0:10])\n",
    "\n",
    "# create target variable\n",
    "target = data.iloc[:, 4]\n",
    "# print(target)\n",
    "\n",
    "\n",
    "# remove happiness from data\n",
    "data = data.drop(['happiness'], axis=1)\n",
    "\n",
    "data = data.fillna(0)\n",
    "# create target variable\n",
    "# print(data[0:10])\n",
    "\n",
    "# remove some columns\n",
    "data = data.drop(['_id', 'city_name', 'latitude', 'longitude', 'region', 'sample', 'uk_region'], axis=1)\n",
    "\n",
    "print(data[0:5])\n",
    "\n",
    "data_pandas = data\n",
    "# convert both to Numpy array representation\n",
    "data = data.as_matrix()\n",
    "target = target.as_matrix()"
   ]
  },
  {
   "cell_type": "markdown",
   "metadata": {
    "collapsed": true
   },
   "source": [
    "# Linear regression : Lasso"
   ]
  },
  {
   "cell_type": "code",
   "execution_count": 17,
   "metadata": {},
   "outputs": [
    {
     "name": "stdout",
     "output_type": "stream",
     "text": [
      "[  1.00000000e-05   1.08984148e-05   1.18775445e-05   1.29446407e-05\n",
      "   1.41076064e-05   1.53750546e-05   1.67563723e-05   1.82617896e-05\n",
      "   1.99024558e-05   2.16905218e-05   2.36392304e-05   2.57630139e-05\n",
      "   2.80776012e-05   3.06001344e-05   3.33492958e-05   3.63454458e-05\n",
      "   3.96107745e-05   4.31694651e-05   4.70478737e-05   5.12747243e-05\n",
      "   5.58813215e-05   6.09017821e-05   6.63732883e-05   7.23363628e-05\n",
      "   7.88351687e-05   8.59178369e-05   9.36368225e-05   1.02049293e-04\n",
      "   1.11217553e-04   1.21209502e-04   1.32099143e-04   1.43967126e-04\n",
      "   1.56901346e-04   1.70997595e-04   1.86360272e-04   2.03103154e-04\n",
      "   2.21350242e-04   2.41236676e-04   2.62909736e-04   2.86529935e-04\n",
      "   3.12272209e-04   3.40327206e-04   3.70902706e-04   4.04225154e-04\n",
      "   4.40541340e-04   4.80120226e-04   5.23254938e-04   5.70264936e-04\n",
      "   6.21498382e-04   6.77334716e-04   7.38187469e-04   8.04507324e-04\n",
      "   8.76785453e-04   9.55557156e-04   1.04140582e-03   1.13496727e-03\n",
      "   1.23693440e-03   1.34806242e-03   1.46917434e-03   1.60116714e-03\n",
      "   1.74501837e-03   1.90179340e-03   2.07265333e-03   2.25886358e-03\n",
      "   2.46180322e-03   2.68297527e-03   2.92401774e-03   3.18671582e-03\n",
      "   3.47301508e-03   3.78503590e-03   4.12508913e-03   4.49569324e-03\n",
      "   4.89959297e-03   5.33977966e-03   5.81951336e-03   6.34234706e-03\n",
      "   6.91215290e-03   7.53315095e-03   8.20994038e-03   8.94753358e-03\n",
      "   9.75139324e-03   1.06274728e-02   1.15822607e-02   1.26228282e-02\n",
      "   1.37568817e-02   1.49928203e-02   1.63397975e-02   1.78077891e-02\n",
      "   1.94076672e-02   2.11512808e-02   2.30515432e-02   2.51225279e-02\n",
      "   2.73795730e-02   2.98393944e-02   3.25202097e-02   3.54418735e-02\n",
      "   3.86260238e-02   4.20962430e-02   4.58782318e-02   5.00000000e-02]\n"
     ]
    },
    {
     "name": "stderr",
     "output_type": "stream",
     "text": [
      "/usr/local/anaconda/anaconda3/lib/python3.6/site-packages/sklearn/linear_model/coordinate_descent.py:491: ConvergenceWarning: Objective did not converge. You might want to increase the number of iterations. Fitting data with very small alpha may cause precision problems.\n",
      "  ConvergenceWarning)\n"
     ]
    },
    {
     "name": "stdout",
     "output_type": "stream",
     "text": [
      "[0.026633766548644029, 0.021614262515292713, 0.027247247977517604, 0.032694457267319565, 0.029408288305953045, 0.028683350837394608, 0.020115138870228578, 0.023184405729493228, 0.018825302604551446, 0.024596865096693978, 0.026564519411770147, 0.047088986902007864, 0.018445530794854167, 0.020216632432110089, 0.024004834473283981, 0.037535453101578367, 0.023461189663711031, 0.024479584308554271, 0.019563319173930997, 0.023535025487414148, 0.031146658685405108, 0.025357524175662574, 0.019512281198538758, 0.021276198561273198, 0.041377169888328916, 0.019902761153585812, 0.046261292668400768, 0.02289785815693365, 0.026432820218834453, 0.022058728928588546, 0.022652240737563372, 0.027102490752222645, 0.019268475236673226, 0.032761925362331794, 0.029917711062796642, 0.027062838521674737, 0.029992916606799133, 0.024295309801233969, 0.028431221217149569, 0.028110325364665168, 0.021135860081202551, 0.026103889794553116, 0.020395040426256294, 0.023903169249973506, 0.026254292239093344, 0.023253784236882392, 0.024335660355596485, 0.018207075057581498, 0.02081085660690004, 0.016531373500817747, 0.018719122639754907, 0.024149012431422142, 0.019037883124680865, 0.020737614273925415, 0.017333615591646846, 0.02212882056673077, 0.015732133710225946, 0.016368677586408809, 0.020499367772571452, 0.017937097565192728, 0.018152251095732066, 0.018653532653524527, 0.016767917823125093, 0.019797775152389042, 0.016389669673167701, 0.020999590133417692, 0.017457489601196793, 0.020011924506111313, 0.019335413390441186, 0.018313946451127997, 0.018264980480218972, 0.018505560973961263, 0.019896612125725001, 0.024567916488660281, 0.021494553644749032, 0.020163344529497106, 0.020436604349059077, 0.022562328686214574, 0.024881604657969111, 0.022325761450136122, 0.026299335210921114, 0.028362685750678775, 0.025307250723810546, 0.026747947615441966, 0.027853177674827631, 0.028201265592913811, 0.028247349714530315, 0.030958013359751818, 0.030727094055338095, 0.0298763674597478, 0.032072243198864363, 0.031820419760244356, 0.031569787710029301, 0.031986450930820455, 0.031411135057064006, 0.031845791218430924, 0.034496378550658763, 0.032883736115727369, 0.034137049171975256, 0.034375062844537188]\n",
      "56\n",
      "0.00123693440399\n",
      "[-0.4605066910592998, 0.0, 0.0, 0.019925871560043485, 0.004052425219657611, -0.15623245667305763, -0.11465379452129155, -0.0, 0.0, -0.5030678529805259, 0.0, 0.09780201953265666, -0.09366319624500598]\n",
      "0.640072622648\n"
     ]
    }
   ],
   "source": [
    "# run lasso for feature selection\n",
    "clf = linear_model.Lasso(alpha=0.0005)\n",
    "clf.fit(data, target)\n",
    "\n",
    "alphas = numpy.geomspace(0.00001, 0.05, num=100)\n",
    "print(alphas)\n",
    "\n",
    "error = []\n",
    "for i in alphas:\n",
    "    \n",
    "    mean_error = []\n",
    "    \n",
    "#     cross validation\n",
    "    kf = sklearn.model_selection.KFold(4, shuffle=True)\n",
    "    for train_index, test_index in kf.split(data):\n",
    "        X_train, X_test = data[train_index], data[test_index]\n",
    "        Y_train, Y_test = target[train_index], target[test_index]\n",
    "        \n",
    "#         train model\n",
    "        clf = linear_model.Lasso(alpha=i)\n",
    "        clf.fit(X_train, Y_train)\n",
    "        \n",
    "#         error\n",
    "        mean_error.append(sklearn.metrics.mean_squared_error(Y_test, clf.predict(X_test)))\n",
    "    \n",
    "#     error\n",
    "    error.append(numpy.mean(mean_error))\n",
    "\n",
    "    \n",
    "print(error)\n",
    "print(error.index(min(error)))\n",
    "print(alphas[error.index(min(error))])\n",
    "\n",
    "# alpha\n",
    "alpha = alphas[error.index(min(error))]\n",
    "\n",
    "clf = linear_model.Lasso(alpha=alpha)\n",
    "clf.fit(data, target)\n",
    "\n",
    "\n",
    "weights = clf.coef_\n",
    "print(weights.tolist())\n",
    "print(clf.intercept_)"
   ]
  },
  {
   "cell_type": "code",
   "execution_count": 18,
   "metadata": {
    "collapsed": true
   },
   "outputs": [],
   "source": [
    "# select the features\n",
    "boundary = 0.000001\n",
    "\n",
    "selectedFeatures = []\n",
    "data_deleted = data_pandas\n",
    "\n",
    "for i in range(len(weights)):\n",
    "    if abs(weights[i])> boundary:\n",
    "        selectedFeatures.append(data_pandas.columns.values[i])\n",
    "    else:\n",
    "        data_deleted = data_deleted.drop(data_pandas.columns.values[i],axis=1)"
   ]
  },
  {
   "cell_type": "code",
   "execution_count": 19,
   "metadata": {},
   "outputs": [
    {
     "name": "stdout",
     "output_type": "stream",
     "text": [
      "[-0.4605009525701098, 0.019925847091217242, 0.004058816577515066, -0.15624585015318318, -0.11466159306996417, -0.5031451058300254, 0.09782069486987625, -0.09365879119118531]\n",
      "0.640084435036\n"
     ]
    },
    {
     "data": {
      "text/plain": [
       "Index(['GVA', 'house_price', 'population', 'pubs_number', 'road_traffic_2015',\n",
       "       'stations_number', 'traffic_noise', 'unemployment'],\n",
       "      dtype='object')"
      ]
     },
     "execution_count": 19,
     "metadata": {},
     "output_type": "execute_result"
    }
   ],
   "source": [
    "# convert both to Numpy array representation\n",
    "data_d = data_deleted.as_matrix()\n",
    "clf = linear_model.Lasso(alpha=alpha)\n",
    "clf.fit(data_d, target)\n",
    "weights = clf.coef_\n",
    "print(weights.tolist())\n",
    "print(clf.intercept_)\n",
    "data_deleted.columns"
   ]
  },
  {
   "cell_type": "code",
   "execution_count": 21,
   "metadata": {},
   "outputs": [
    {
     "name": "stdout",
     "output_type": "stream",
     "text": [
      "The rank of importance: less to most\n",
      "['population',\n",
      " 'house_price',\n",
      " 'unemployment',\n",
      " 'traffic_noise',\n",
      " 'road_traffic_2015',\n",
      " 'pubs_number',\n",
      " 'GVA',\n",
      " 'stations_number']\n"
     ]
    },
    {
     "data": {
      "text/plain": [
       "{'GVA': -0.4605009525701098,\n",
       " 'house_price': 0.019925847091217242,\n",
       " 'population': 0.004058816577515066,\n",
       " 'pubs_number': -0.15624585015318318,\n",
       " 'road_traffic_2015': -0.11466159306996417,\n",
       " 'stations_number': -0.5031451058300254,\n",
       " 'traffic_noise': 0.09782069486987625,\n",
       " 'unemployment': -0.09365879119118531}"
      ]
     },
     "execution_count": 21,
     "metadata": {},
     "output_type": "execute_result"
    }
   ],
   "source": [
    "from pprint import pprint\n",
    "\n",
    "# save features to dictionary\n",
    "values = weights.tolist()\n",
    "keys = data_deleted.columns\n",
    "\n",
    "count = 0\n",
    "valueFeatures = {}\n",
    "for key in keys:\n",
    "    valueFeatures[key] = values[count]\n",
    "    count += 1\n",
    "\n",
    "\n",
    "sortedFeatures = sorted(valueFeatures, key=lambda dict_key: abs(valueFeatures[dict_key]))\n",
    "print(\"The rank of importance: less to most\")  \n",
    "pprint(sortedFeatures)\n",
    "valueFeatures"
   ]
  },
  {
   "cell_type": "markdown",
   "metadata": {
    "collapsed": true
   },
   "source": [
    "## Randomforest"
   ]
  },
  {
   "cell_type": "code",
   "execution_count": 37,
   "metadata": {},
   "outputs": [
    {
     "name": "stdout",
     "output_type": "stream",
     "text": [
      "The rank of importance: less to most\n",
      "['best_Uni_ranking',\n",
      " 'pubs_number',\n",
      " 'traffic_noise',\n",
      " 'school_number',\n",
      " 'road_traffic_2015',\n",
      " 'GVA',\n",
      " 'hospitals_number',\n",
      " 'road_traffic_2016',\n",
      " 'total_jobs',\n",
      " 'stations_number',\n",
      " 'unemployment',\n",
      " 'house_price',\n",
      " 'population']\n"
     ]
    },
    {
     "data": {
      "text/plain": [
       "{'GVA': 0.035970014063121405,\n",
       " 'best_Uni_ranking': 0.0,\n",
       " 'hospitals_number': 0.05654761469025025,\n",
       " 'house_price': 0.14547038335887041,\n",
       " 'population': 0.3122148174260362,\n",
       " 'pubs_number': 0.004971677845466304,\n",
       " 'road_traffic_2015': 0.025568818839859602,\n",
       " 'road_traffic_2016': 0.06029490151770102,\n",
       " 'school_number': 0.024789253006715316,\n",
       " 'stations_number': 0.099344102421776,\n",
       " 'total_jobs': 0.08376470666629357,\n",
       " 'traffic_noise': 0.01298410719976074,\n",
       " 'unemployment': 0.13807960296414917}"
      ]
     },
     "execution_count": 37,
     "metadata": {},
     "output_type": "execute_result"
    }
   ],
   "source": [
    "from sklearn.ensemble import RandomForestRegressor\n",
    "regr = RandomForestRegressor(max_depth=3, random_state=0)\n",
    "regr.fit(data, target)\n",
    "importance_rank_randomForest = regr.feature_importances_.tolist()\n",
    "keys = list(data_pandas.columns)\n",
    "randomForest_result = {}\n",
    "for i in range(len(importance_rank_randomForest)):\n",
    "    randomForest_result[keys[i]] = importance_rank_randomForest[i]\n",
    "sortedFeatures = sorted(randomForest_result, key=lambda dict_key: abs(randomForest_result[dict_key]))\n",
    "print(\"The rank of importance: less to most\")  \n",
    "pprint(sortedFeatures)\n",
    "randomForest_result"
   ]
  },
  {
   "cell_type": "markdown",
   "metadata": {},
   "source": [
    "## chisquare"
   ]
  },
  {
   "cell_type": "code",
   "execution_count": 39,
   "metadata": {},
   "outputs": [
    {
     "name": "stdout",
     "output_type": "stream",
     "text": [
      "Power_divergenceResult(statistic=array([  1.71251648e+01,   3.86439583e+01,   3.81900832e+00,\n",
      "        -5.53781707e+01,  -1.23390422e+02,   1.53210289e+01,\n",
      "        -5.82165680e+01,  -6.71814129e+01,   2.28691364e+00,\n",
      "         8.96068223e+00,  -8.55873358e+01,   1.14185125e+03,\n",
      "         4.97977329e+03]), pvalue=array([  1.00000000e+000,   9.99982537e-001,   1.00000000e+000,\n",
      "         1.00000000e+000,   1.00000000e+000,   1.00000000e+000,\n",
      "         1.00000000e+000,   1.00000000e+000,   1.00000000e+000,\n",
      "         1.00000000e+000,   1.00000000e+000,   7.19221076e-187,\n",
      "         0.00000000e+000]))\n"
     ]
    }
   ],
   "source": [
    "from scipy.stats import chisquare \n",
    "test_chis = chisquare(data)\n",
    "print(test_chis)"
   ]
  },
  {
   "cell_type": "markdown",
   "metadata": {},
   "source": [
    "## pearsonr"
   ]
  },
  {
   "cell_type": "code",
   "execution_count": 44,
   "metadata": {},
   "outputs": [
    {
     "name": "stdout",
     "output_type": "stream",
     "text": [
      "the GVA pearsonr correlation coefficient is -0.098760, p-value is 0.377376 \n",
      "the best_Uni_ranking pearsonr correlation coefficient is -0.171256, p-value is 0.123957 \n",
      "the hospitals_number pearsonr correlation coefficient is -0.360762, p-value is 0.000870 \n",
      "the house_price pearsonr correlation coefficient is 0.144106, p-value is 0.196477 \n",
      "the population pearsonr correlation coefficient is -0.357872, p-value is 0.000964 \n",
      "the pubs_number pearsonr correlation coefficient is -0.430021, p-value is 0.000055 \n",
      "the road_traffic_2015 pearsonr correlation coefficient is -0.442338, p-value is 0.000032 \n",
      "the road_traffic_2016 pearsonr correlation coefficient is -0.436806, p-value is 0.000041 \n",
      "the school_number pearsonr correlation coefficient is -0.410237, p-value is 0.000129 \n",
      "the stations_number pearsonr correlation coefficient is -0.517841, p-value is 0.000001 \n",
      "the total_jobs pearsonr correlation coefficient is -0.351855, p-value is 0.001189 \n",
      "the traffic_noise pearsonr correlation coefficient is -0.317318, p-value is 0.003675 \n",
      "the unemployment pearsonr correlation coefficient is -0.420738, p-value is 0.000083 \n"
     ]
    }
   ],
   "source": [
    "from scipy.stats import pearsonr\n",
    "keys = list(data_pandas.columns)\n",
    "for i in range(len(data[0,:])):\n",
    "    p = pearsonr(data[:,i],target)\n",
    "    print(\"the %s pearsonr correlation coefficient is %f, p-value is %f \" % (keys[i],p[0],p[1]))"
   ]
  },
  {
   "cell_type": "code",
   "execution_count": 45,
   "metadata": {},
   "outputs": [
    {
     "name": "stdout",
     "output_type": "stream",
     "text": [
      "the GVA and GVA pearsonr correlation coefficient is 1.000000, p-value is 0.000000 \n",
      "the GVA and best_Uni_ranking pearsonr correlation coefficient is -0.249244, p-value is 0.023939 \n",
      "the GVA and hospitals_number pearsonr correlation coefficient is -0.259872, p-value is 0.018385 \n",
      "the GVA and house_price pearsonr correlation coefficient is 0.668092, p-value is 0.000000 \n",
      "the GVA and population pearsonr correlation coefficient is -0.236652, p-value is 0.032308 \n",
      "the GVA and pubs_number pearsonr correlation coefficient is -0.397154, p-value is 0.000220 \n",
      "the GVA and road_traffic_2015 pearsonr correlation coefficient is -0.221969, p-value is 0.045045 \n",
      "the GVA and road_traffic_2016 pearsonr correlation coefficient is -0.178238, p-value is 0.109135 \n",
      "the GVA and school_number pearsonr correlation coefficient is -0.236017, p-value is 0.032788 \n",
      "the GVA and stations_number pearsonr correlation coefficient is -0.344648, p-value is 0.001520 \n",
      "the GVA and total_jobs pearsonr correlation coefficient is -0.161940, p-value is 0.146077 \n",
      "the GVA and traffic_noise pearsonr correlation coefficient is -0.373478, p-value is 0.000548 \n",
      "the GVA and unemployment pearsonr correlation coefficient is -0.654994, p-value is 0.000000 \n",
      "the best_Uni_ranking and GVA pearsonr correlation coefficient is -0.249244, p-value is 0.023939 \n",
      "the best_Uni_ranking and best_Uni_ranking pearsonr correlation coefficient is 1.000000, p-value is 0.000000 \n",
      "the best_Uni_ranking and hospitals_number pearsonr correlation coefficient is 0.756666, p-value is 0.000000 \n",
      "the best_Uni_ranking and house_price pearsonr correlation coefficient is -0.056418, p-value is 0.614650 \n",
      "the best_Uni_ranking and population pearsonr correlation coefficient is 0.573248, p-value is 0.000000 \n",
      "the best_Uni_ranking and pubs_number pearsonr correlation coefficient is 0.557858, p-value is 0.000000 \n",
      "the best_Uni_ranking and road_traffic_2015 pearsonr correlation coefficient is 0.515568, p-value is 0.000001 \n",
      "the best_Uni_ranking and road_traffic_2016 pearsonr correlation coefficient is 0.494158, p-value is 0.000002 \n",
      "the best_Uni_ranking and school_number pearsonr correlation coefficient is 0.686439, p-value is 0.000000 \n",
      "the best_Uni_ranking and stations_number pearsonr correlation coefficient is 0.324794, p-value is 0.002909 \n",
      "the best_Uni_ranking and total_jobs pearsonr correlation coefficient is 0.618984, p-value is 0.000000 \n",
      "the best_Uni_ranking and traffic_noise pearsonr correlation coefficient is 0.497472, p-value is 0.000002 \n",
      "the best_Uni_ranking and unemployment pearsonr correlation coefficient is 0.155131, p-value is 0.164030 \n",
      "the hospitals_number and GVA pearsonr correlation coefficient is -0.259872, p-value is 0.018385 \n",
      "the hospitals_number and best_Uni_ranking pearsonr correlation coefficient is 0.756666, p-value is 0.000000 \n",
      "the hospitals_number and hospitals_number pearsonr correlation coefficient is 1.000000, p-value is 0.000000 \n",
      "the hospitals_number and house_price pearsonr correlation coefficient is -0.250230, p-value is 0.023369 \n",
      "the hospitals_number and population pearsonr correlation coefficient is 0.744543, p-value is 0.000000 \n",
      "the hospitals_number and pubs_number pearsonr correlation coefficient is 0.731903, p-value is 0.000000 \n",
      "the hospitals_number and road_traffic_2015 pearsonr correlation coefficient is 0.574890, p-value is 0.000000 \n",
      "the hospitals_number and road_traffic_2016 pearsonr correlation coefficient is 0.573092, p-value is 0.000000 \n",
      "the hospitals_number and school_number pearsonr correlation coefficient is 0.876618, p-value is 0.000000 \n",
      "the hospitals_number and stations_number pearsonr correlation coefficient is 0.648191, p-value is 0.000000 \n",
      "the hospitals_number and total_jobs pearsonr correlation coefficient is 0.776999, p-value is 0.000000 \n",
      "the hospitals_number and traffic_noise pearsonr correlation coefficient is 0.665304, p-value is 0.000000 \n",
      "the hospitals_number and unemployment pearsonr correlation coefficient is 0.357845, p-value is 0.000964 \n",
      "the house_price and GVA pearsonr correlation coefficient is 0.668092, p-value is 0.000000 \n",
      "the house_price and best_Uni_ranking pearsonr correlation coefficient is -0.056418, p-value is 0.614650 \n",
      "the house_price and hospitals_number pearsonr correlation coefficient is -0.250230, p-value is 0.023369 \n",
      "the house_price and house_price pearsonr correlation coefficient is 1.000000, p-value is 0.000000 \n",
      "the house_price and population pearsonr correlation coefficient is -0.264770, p-value is 0.016223 \n",
      "the house_price and pubs_number pearsonr correlation coefficient is -0.366152, p-value is 0.000717 \n",
      "the house_price and road_traffic_2015 pearsonr correlation coefficient is -0.253486, p-value is 0.021571 \n",
      "the house_price and road_traffic_2016 pearsonr correlation coefficient is -0.227502, p-value is 0.039828 \n",
      "the house_price and school_number pearsonr correlation coefficient is -0.283640, p-value is 0.009814 \n",
      "the house_price and stations_number pearsonr correlation coefficient is -0.305383, p-value is 0.005273 \n",
      "the house_price and total_jobs pearsonr correlation coefficient is -0.207316, p-value is 0.061642 \n",
      "the house_price and traffic_noise pearsonr correlation coefficient is -0.327506, p-value is 0.002669 \n",
      "the house_price and unemployment pearsonr correlation coefficient is -0.615901, p-value is 0.000000 \n",
      "the population and GVA pearsonr correlation coefficient is -0.236652, p-value is 0.032308 \n",
      "the population and best_Uni_ranking pearsonr correlation coefficient is 0.573248, p-value is 0.000000 \n",
      "the population and hospitals_number pearsonr correlation coefficient is 0.744543, p-value is 0.000000 \n",
      "the population and house_price pearsonr correlation coefficient is -0.264770, p-value is 0.016223 \n",
      "the population and population pearsonr correlation coefficient is 1.000000, p-value is 0.000000 \n",
      "the population and pubs_number pearsonr correlation coefficient is 0.541882, p-value is 0.000000 \n",
      "the population and road_traffic_2015 pearsonr correlation coefficient is 0.523504, p-value is 0.000000 \n",
      "the population and road_traffic_2016 pearsonr correlation coefficient is 0.513857, p-value is 0.000001 \n",
      "the population and school_number pearsonr correlation coefficient is 0.901054, p-value is 0.000000 \n",
      "the population and stations_number pearsonr correlation coefficient is 0.684171, p-value is 0.000000 \n",
      "the population and total_jobs pearsonr correlation coefficient is 0.985716, p-value is 0.000000 \n",
      "the population and traffic_noise pearsonr correlation coefficient is 0.776772, p-value is 0.000000 \n",
      "the population and unemployment pearsonr correlation coefficient is 0.376342, p-value is 0.000493 \n",
      "the pubs_number and GVA pearsonr correlation coefficient is -0.397154, p-value is 0.000220 \n",
      "the pubs_number and best_Uni_ranking pearsonr correlation coefficient is 0.557858, p-value is 0.000000 \n",
      "the pubs_number and hospitals_number pearsonr correlation coefficient is 0.731903, p-value is 0.000000 \n",
      "the pubs_number and house_price pearsonr correlation coefficient is -0.366152, p-value is 0.000717 \n",
      "the pubs_number and population pearsonr correlation coefficient is 0.541882, p-value is 0.000000 \n",
      "the pubs_number and pubs_number pearsonr correlation coefficient is 1.000000, p-value is 0.000000 \n",
      "the pubs_number and road_traffic_2015 pearsonr correlation coefficient is 0.329224, p-value is 0.002526 \n",
      "the pubs_number and road_traffic_2016 pearsonr correlation coefficient is 0.317326, p-value is 0.003674 \n",
      "the pubs_number and school_number pearsonr correlation coefficient is 0.642035, p-value is 0.000000 \n",
      "the pubs_number and stations_number pearsonr correlation coefficient is 0.695102, p-value is 0.000000 \n",
      "the pubs_number and total_jobs pearsonr correlation coefficient is 0.570836, p-value is 0.000000 \n",
      "the pubs_number and traffic_noise pearsonr correlation coefficient is 0.749424, p-value is 0.000000 \n",
      "the pubs_number and unemployment pearsonr correlation coefficient is 0.505470, p-value is 0.000001 \n",
      "the road_traffic_2015 and GVA pearsonr correlation coefficient is -0.221969, p-value is 0.045045 \n",
      "the road_traffic_2015 and best_Uni_ranking pearsonr correlation coefficient is 0.515568, p-value is 0.000001 \n",
      "the road_traffic_2015 and hospitals_number pearsonr correlation coefficient is 0.574890, p-value is 0.000000 \n",
      "the road_traffic_2015 and house_price pearsonr correlation coefficient is -0.253486, p-value is 0.021571 \n",
      "the road_traffic_2015 and population pearsonr correlation coefficient is 0.523504, p-value is 0.000000 \n",
      "the road_traffic_2015 and pubs_number pearsonr correlation coefficient is 0.329224, p-value is 0.002526 \n",
      "the road_traffic_2015 and road_traffic_2015 pearsonr correlation coefficient is 1.000000, p-value is 0.000000 \n",
      "the road_traffic_2015 and road_traffic_2016 pearsonr correlation coefficient is 0.993776, p-value is 0.000000 \n",
      "the road_traffic_2015 and school_number pearsonr correlation coefficient is 0.522066, p-value is 0.000000 \n",
      "the road_traffic_2015 and stations_number pearsonr correlation coefficient is 0.350621, p-value is 0.001240 \n",
      "the road_traffic_2015 and total_jobs pearsonr correlation coefficient is 0.495837, p-value is 0.000002 \n",
      "the road_traffic_2015 and traffic_noise pearsonr correlation coefficient is 0.457849, p-value is 0.000015 \n",
      "the road_traffic_2015 and unemployment pearsonr correlation coefficient is 0.368905, p-value is 0.000649 \n",
      "the road_traffic_2016 and GVA pearsonr correlation coefficient is -0.178238, p-value is 0.109135 \n",
      "the road_traffic_2016 and best_Uni_ranking pearsonr correlation coefficient is 0.494158, p-value is 0.000002 \n",
      "the road_traffic_2016 and hospitals_number pearsonr correlation coefficient is 0.573092, p-value is 0.000000 \n",
      "the road_traffic_2016 and house_price pearsonr correlation coefficient is -0.227502, p-value is 0.039828 \n",
      "the road_traffic_2016 and population pearsonr correlation coefficient is 0.513857, p-value is 0.000001 \n",
      "the road_traffic_2016 and pubs_number pearsonr correlation coefficient is 0.317326, p-value is 0.003674 \n",
      "the road_traffic_2016 and road_traffic_2015 pearsonr correlation coefficient is 0.993776, p-value is 0.000000 \n",
      "the road_traffic_2016 and road_traffic_2016 pearsonr correlation coefficient is 1.000000, p-value is 0.000000 \n",
      "the road_traffic_2016 and school_number pearsonr correlation coefficient is 0.503105, p-value is 0.000001 \n",
      "the road_traffic_2016 and stations_number pearsonr correlation coefficient is 0.336729, p-value is 0.001980 \n",
      "the road_traffic_2016 and total_jobs pearsonr correlation coefficient is 0.490146, p-value is 0.000003 \n",
      "the road_traffic_2016 and traffic_noise pearsonr correlation coefficient is 0.460262, p-value is 0.000014 \n",
      "the road_traffic_2016 and unemployment pearsonr correlation coefficient is 0.343743, p-value is 0.001568 \n",
      "the school_number and GVA pearsonr correlation coefficient is -0.236017, p-value is 0.032788 \n",
      "the school_number and best_Uni_ranking pearsonr correlation coefficient is 0.686439, p-value is 0.000000 \n",
      "the school_number and hospitals_number pearsonr correlation coefficient is 0.876618, p-value is 0.000000 \n",
      "the school_number and house_price pearsonr correlation coefficient is -0.283640, p-value is 0.009814 \n",
      "the school_number and population pearsonr correlation coefficient is 0.901054, p-value is 0.000000 \n",
      "the school_number and pubs_number pearsonr correlation coefficient is 0.642035, p-value is 0.000000 \n",
      "the school_number and road_traffic_2015 pearsonr correlation coefficient is 0.522066, p-value is 0.000000 \n",
      "the school_number and road_traffic_2016 pearsonr correlation coefficient is 0.503105, p-value is 0.000001 \n",
      "the school_number and school_number pearsonr correlation coefficient is 1.000000, p-value is 0.000000 \n",
      "the school_number and stations_number pearsonr correlation coefficient is 0.652208, p-value is 0.000000 \n",
      "the school_number and total_jobs pearsonr correlation coefficient is 0.908735, p-value is 0.000000 \n",
      "the school_number and traffic_noise pearsonr correlation coefficient is 0.658569, p-value is 0.000000 \n",
      "the school_number and unemployment pearsonr correlation coefficient is 0.440122, p-value is 0.000035 \n",
      "the stations_number and GVA pearsonr correlation coefficient is -0.344648, p-value is 0.001520 \n",
      "the stations_number and best_Uni_ranking pearsonr correlation coefficient is 0.324794, p-value is 0.002909 \n",
      "the stations_number and hospitals_number pearsonr correlation coefficient is 0.648191, p-value is 0.000000 \n",
      "the stations_number and house_price pearsonr correlation coefficient is -0.305383, p-value is 0.005273 \n",
      "the stations_number and population pearsonr correlation coefficient is 0.684171, p-value is 0.000000 \n",
      "the stations_number and pubs_number pearsonr correlation coefficient is 0.695102, p-value is 0.000000 \n",
      "the stations_number and road_traffic_2015 pearsonr correlation coefficient is 0.350621, p-value is 0.001240 \n",
      "the stations_number and road_traffic_2016 pearsonr correlation coefficient is 0.336729, p-value is 0.001980 \n",
      "the stations_number and school_number pearsonr correlation coefficient is 0.652208, p-value is 0.000000 \n",
      "the stations_number and stations_number pearsonr correlation coefficient is 1.000000, p-value is 0.000000 \n",
      "the stations_number and total_jobs pearsonr correlation coefficient is 0.648329, p-value is 0.000000 \n",
      "the stations_number and traffic_noise pearsonr correlation coefficient is 0.757266, p-value is 0.000000 \n",
      "the stations_number and unemployment pearsonr correlation coefficient is 0.494519, p-value is 0.000002 \n",
      "the total_jobs and GVA pearsonr correlation coefficient is -0.161940, p-value is 0.146077 \n",
      "the total_jobs and best_Uni_ranking pearsonr correlation coefficient is 0.618984, p-value is 0.000000 \n",
      "the total_jobs and hospitals_number pearsonr correlation coefficient is 0.776999, p-value is 0.000000 \n",
      "the total_jobs and house_price pearsonr correlation coefficient is -0.207316, p-value is 0.061642 \n",
      "the total_jobs and population pearsonr correlation coefficient is 0.985716, p-value is 0.000000 \n",
      "the total_jobs and pubs_number pearsonr correlation coefficient is 0.570836, p-value is 0.000000 \n",
      "the total_jobs and road_traffic_2015 pearsonr correlation coefficient is 0.495837, p-value is 0.000002 \n",
      "the total_jobs and road_traffic_2016 pearsonr correlation coefficient is 0.490146, p-value is 0.000003 \n",
      "the total_jobs and school_number pearsonr correlation coefficient is 0.908735, p-value is 0.000000 \n",
      "the total_jobs and stations_number pearsonr correlation coefficient is 0.648329, p-value is 0.000000 \n",
      "the total_jobs and total_jobs pearsonr correlation coefficient is 1.000000, p-value is 0.000000 \n",
      "the total_jobs and traffic_noise pearsonr correlation coefficient is 0.771137, p-value is 0.000000 \n",
      "the total_jobs and unemployment pearsonr correlation coefficient is 0.283714, p-value is 0.009794 \n",
      "the traffic_noise and GVA pearsonr correlation coefficient is -0.373478, p-value is 0.000548 \n",
      "the traffic_noise and best_Uni_ranking pearsonr correlation coefficient is 0.497472, p-value is 0.000002 \n",
      "the traffic_noise and hospitals_number pearsonr correlation coefficient is 0.665304, p-value is 0.000000 \n",
      "the traffic_noise and house_price pearsonr correlation coefficient is -0.327506, p-value is 0.002669 \n",
      "the traffic_noise and population pearsonr correlation coefficient is 0.776772, p-value is 0.000000 \n",
      "the traffic_noise and pubs_number pearsonr correlation coefficient is 0.749424, p-value is 0.000000 \n",
      "the traffic_noise and road_traffic_2015 pearsonr correlation coefficient is 0.457849, p-value is 0.000015 \n",
      "the traffic_noise and road_traffic_2016 pearsonr correlation coefficient is 0.460262, p-value is 0.000014 \n",
      "the traffic_noise and school_number pearsonr correlation coefficient is 0.658569, p-value is 0.000000 \n",
      "the traffic_noise and stations_number pearsonr correlation coefficient is 0.757266, p-value is 0.000000 \n",
      "the traffic_noise and total_jobs pearsonr correlation coefficient is 0.771137, p-value is 0.000000 \n",
      "the traffic_noise and traffic_noise pearsonr correlation coefficient is 1.000000, p-value is 0.000000 \n",
      "the traffic_noise and unemployment pearsonr correlation coefficient is 0.441967, p-value is 0.000032 \n",
      "the unemployment and GVA pearsonr correlation coefficient is -0.654994, p-value is 0.000000 \n",
      "the unemployment and best_Uni_ranking pearsonr correlation coefficient is 0.155131, p-value is 0.164030 \n",
      "the unemployment and hospitals_number pearsonr correlation coefficient is 0.357845, p-value is 0.000964 \n",
      "the unemployment and house_price pearsonr correlation coefficient is -0.615901, p-value is 0.000000 \n",
      "the unemployment and population pearsonr correlation coefficient is 0.376342, p-value is 0.000493 \n",
      "the unemployment and pubs_number pearsonr correlation coefficient is 0.505470, p-value is 0.000001 \n",
      "the unemployment and road_traffic_2015 pearsonr correlation coefficient is 0.368905, p-value is 0.000649 \n",
      "the unemployment and road_traffic_2016 pearsonr correlation coefficient is 0.343743, p-value is 0.001568 \n",
      "the unemployment and school_number pearsonr correlation coefficient is 0.440122, p-value is 0.000035 \n",
      "the unemployment and stations_number pearsonr correlation coefficient is 0.494519, p-value is 0.000002 \n",
      "the unemployment and total_jobs pearsonr correlation coefficient is 0.283714, p-value is 0.009794 \n",
      "the unemployment and traffic_noise pearsonr correlation coefficient is 0.441967, p-value is 0.000032 \n",
      "the unemployment and unemployment pearsonr correlation coefficient is 1.000000, p-value is 0.000000 \n"
     ]
    }
   ],
   "source": [
    "for i in range(len(data[0,:])):\n",
    "    for j in range(len(data[0,:])):\n",
    "        p = pearsonr(data[:,i],data[:,j])\n",
    "        print(\"the %s and %s pearsonr correlation coefficient is %f, p-value is %f \" % (keys[i],keys[j],p[0],p[1]))"
   ]
  },
  {
   "cell_type": "code",
   "execution_count": null,
   "metadata": {
    "collapsed": true
   },
   "outputs": [],
   "source": []
  }
 ],
 "metadata": {
  "kernelspec": {
   "display_name": "Python [conda root]",
   "language": "python",
   "name": "conda-root-py"
  },
  "language_info": {
   "codemirror_mode": {
    "name": "ipython",
    "version": 3
   },
   "file_extension": ".py",
   "mimetype": "text/x-python",
   "name": "python",
   "nbconvert_exporter": "python",
   "pygments_lexer": "ipython3",
   "version": "3.6.1"
  }
 },
 "nbformat": 4,
 "nbformat_minor": 2
}
